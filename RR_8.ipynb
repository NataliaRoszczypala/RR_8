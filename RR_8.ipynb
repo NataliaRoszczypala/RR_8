{
 "cells": [
  {
   "cell_type": "markdown",
   "metadata": {},
   "source": [
    "### RR_8 Assignment\n",
    "\n",
    "Natalia Roszczypała\n",
    "\n",
    "25-04-2024"
   ]
  },
  {
   "cell_type": "markdown",
   "metadata": {},
   "source": [
    "## _**Suits**_\n",
    "\n",
    "### **American TV series**\n",
    "\n",
    "_**Suits**_ is an American television drama series created by **Aaron Korsh**, which premiered on June 23, 2011, on the USA Network. It revolves around **Mike Ross** (Patrick J. Adams), who begins working as a law associate for **Harvey Specter** (Gabriel Macht), despite never attending law school. The show focuses on Harvey and Mike managing to close cases, while maintaining Mike's secret."
   ]
  },
  {
   "cell_type": "markdown",
   "metadata": {},
   "source": [
    "### **The cast of _Suits_**"
   ]
  },
  {
   "cell_type": "markdown",
   "metadata": {},
   "source": [
    "<img src=\"https://people.com/thmb/s32_YedmJWUeJXz-gsYr-I9MZ7s=/1500x0/filters:no_upscale():max_bytes(150000):strip_icc():focal(982x443:984x445):format(webp)/suits-cast-802223949ee4476e81ec229f5675f6c6.jpg\" alt=\"The cast of *Suits*\" title=\"The cast of *Suits*\" />"
   ]
  },
  {
   "cell_type": "markdown",
   "metadata": {},
   "source": []
  }
 ],
 "metadata": {
  "kernelspec": {
   "display_name": "Python 3",
   "language": "python",
   "name": "python3"
  },
  "language_info": {
   "name": "python",
   "version": "3.10.13"
  }
 },
 "nbformat": 4,
 "nbformat_minor": 2
}
