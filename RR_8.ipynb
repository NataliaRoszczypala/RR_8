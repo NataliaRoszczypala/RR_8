{
 "cells": [
  {
   "cell_type": "markdown",
   "metadata": {},
   "source": [
    "### RR_8 Assignment\n",
    "\n",
    "Natalia Roszczypała\n",
    "\n",
    "25-04-2024"
   ]
  },
  {
   "cell_type": "markdown",
   "metadata": {},
   "source": [
    "## _**Suits**_\n",
    "\n",
    "### **American TV series**\n",
    "\n",
    "_**Suits**_ is an American television drama series created by **Aaron Korsh**, which premiered on June 23, 2011, on the USA Network. It revolves around **Mike Ross** (Patrick J. Adams), who begins working as a law associate for **Harvey Specter** (Gabriel Macht), despite never attending law school. The show focuses on Harvey and Mike managing to close cases, while maintaining Mike's secret."
   ]
  },
  {
   "cell_type": "markdown",
   "metadata": {},
   "source": [
    "### **The cast of _Suits_**"
   ]
  },
  {
   "cell_type": "markdown",
   "metadata": {},
   "source": [
    "<img src=\"https://people.com/thmb/s32_YedmJWUeJXz-gsYr-I9MZ7s=/1500x0/filters:no_upscale():max_bytes(150000):strip_icc():focal(982x443:984x445):format(webp)/suits-cast-802223949ee4476e81ec229f5675f6c6.jpg\" alt=\"The cast of *Suits*\" title=\"The cast of *Suits*\" />"
   ]
  },
  {
   "cell_type": "markdown",
   "metadata": {},
   "source": [
    "*Source*: https://people.com/suits-cast-where-are-they-now-7511475"
   ]
  },
  {
   "cell_type": "markdown",
   "metadata": {},
   "source": [
    "### **Ratings**"
   ]
  },
  {
   "cell_type": "code",
   "execution_count": 57,
   "metadata": {},
   "outputs": [
    {
     "name": "stdout",
     "output_type": "stream",
     "text": [
      "Season 1: Average rating = 4.16\n",
      "Season 2: Average rating = 3.60\n",
      "Season 3: Average rating = 2.73\n",
      "Season 4: Average rating = 2.26\n",
      "Season 5: Average rating = 2.01\n",
      "Season 6: Average rating = 1.60\n",
      "Season 7: Average rating = 1.30\n",
      "Season 8: Average rating = 1.02\n",
      "Season 9: Average rating = 0.99\n"
     ]
    }
   ],
   "source": [
    "from urllib import request\n",
    "from bs4 import BeautifulSoup as BS\n",
    "import statistics\n",
    "\n",
    "url = 'https://en.wikipedia.org/wiki/List_of_Suits_episodes#Series_overview' \n",
    "html = request.urlopen(url)\n",
    "bs = BS(html.read(), 'html.parser')\n",
    "\n",
    "# Navigating to the ratings table\n",
    "ratings = bs.find('span', {'id':'Ratings'}).parent.find_next_sibling().find('table', {'class':'wikitable'}).tbody\n",
    "rating_rows = ratings.find_all(\"tr\")\n",
    "all_seasons_ratings = []\n",
    "\n",
    "#Iterating over rows and extracting reatings for each season\n",
    "for row in rating_rows:\n",
    "    td_elements = row.find_all(\"td\")\n",
    "    ratings = [float(td.text.strip()) for td in td_elements if td.text.strip() != '–']\n",
    "\n",
    "    # Calculating the average rating for the season\n",
    "    if ratings:\n",
    "        average_rating = statistics.mean(ratings)\n",
    "        all_seasons_ratings.append(average_rating)\n",
    "\n",
    "# Printing the result\n",
    "for season_number, average_rating in enumerate(all_seasons_ratings, start=1):\n",
    "    print(f\"Season {season_number}: Average rating = {average_rating:.2f}\")"
   ]
  }
 ],
 "metadata": {
  "kernelspec": {
   "display_name": "Python 3",
   "language": "python",
   "name": "python3"
  },
  "language_info": {
   "codemirror_mode": {
    "name": "ipython",
    "version": 3
   },
   "file_extension": ".py",
   "mimetype": "text/x-python",
   "name": "python",
   "nbconvert_exporter": "python",
   "pygments_lexer": "ipython3",
   "version": "3.10.13"
  }
 },
 "nbformat": 4,
 "nbformat_minor": 2
}
