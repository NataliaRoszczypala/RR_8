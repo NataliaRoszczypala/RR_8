{
 "cells": [
  {
   "cell_type": "markdown",
   "metadata": {},
   "source": [
    "### RR_8 Assignment\n",
    "\n",
    "Natalia Roszczypała\n",
    "\n",
    "25-04-2024"
   ]
  },
  {
   "cell_type": "markdown",
   "metadata": {},
   "source": [
    "## _**Suits**_\n",
    "\n",
    "### **American TV Series**\n",
    "\n",
    "_**Suits**_ is an American television drama series created by **Aaron Korsh**, which premiered on June 23, 2011, on the USA Network. It revolves around **Mike Ross** (Patrick J. Adams), who begins working as a law associate for **Harvey Specter** (Gabriel Macht), despite never attending law school. The show focuses on Harvey and Mike managing to close cases, while maintaining Mike's secret."
   ]
  },
  {
   "cell_type": "markdown",
   "metadata": {},
   "source": [
    "### **The Cast of _Suits_**"
   ]
  },
  {
   "cell_type": "markdown",
   "metadata": {},
   "source": [
    "<img src=\"https://people.com/thmb/s32_YedmJWUeJXz-gsYr-I9MZ7s=/1500x0/filters:no_upscale():max_bytes(150000):strip_icc():focal(982x443:984x445):format(webp)/suits-cast-802223949ee4476e81ec229f5675f6c6.jpg\" alt=\"The cast of *Suits*\" title=\"The cast of *Suits*\" />"
   ]
  },
  {
   "cell_type": "markdown",
   "metadata": {},
   "source": [
    "*Source*: https://people.com/suits-cast-where-are-they-now-7511475"
   ]
  },
  {
   "cell_type": "markdown",
   "metadata": {},
   "source": [
    "### **Ratings**"
   ]
  },
  {
   "cell_type": "code",
   "execution_count": 1,
   "metadata": {},
   "outputs": [],
   "source": [
    "# Libraries\n",
    "from urllib import request\n",
    "from bs4 import BeautifulSoup as BS\n",
    "import statistics\n",
    "import re\n",
    "import matplotlib.pyplot as plt"
   ]
  },
  {
   "cell_type": "code",
   "execution_count": 2,
   "metadata": {},
   "outputs": [
    {
     "name": "stdout",
     "output_type": "stream",
     "text": [
      "Season 1: Average rating = 4.16\n",
      "Season 2: Average rating = 3.60\n",
      "Season 3: Average rating = 2.73\n",
      "Season 4: Average rating = 2.26\n",
      "Season 5: Average rating = 2.01\n",
      "Season 6: Average rating = 1.60\n",
      "Season 7: Average rating = 1.30\n",
      "Season 8: Average rating = 1.02\n",
      "Season 9: Average rating = 0.99\n"
     ]
    }
   ],
   "source": [
    "url = 'https://en.wikipedia.org/wiki/List_of_Suits_episodes#Series_overview' \n",
    "html = request.urlopen(url)\n",
    "bs = BS(html.read(), 'html.parser')\n",
    "\n",
    "# Navigating to the ratings table\n",
    "ratings = bs.find('span', {'id':'Ratings'}).parent.find_next_sibling().find('table', {'class':'wikitable'}).tbody\n",
    "rating_rows = ratings.find_all(\"tr\")\n",
    "all_seasons_ratings = []\n",
    "\n",
    "#Iterating over rows and extracting ratings for each season\n",
    "for row in rating_rows:\n",
    "    td_elements = row.find_all(\"td\")\n",
    "    ratings = [float(td.text.strip()) for td in td_elements if td.text.strip() != '–']\n",
    "\n",
    "    # Calculating the average rating for the season\n",
    "    if ratings:\n",
    "        average_rating = statistics.mean(ratings)\n",
    "        all_seasons_ratings.append(average_rating)\n",
    "\n",
    "# Printing the results\n",
    "for season_number, average_rating in enumerate(all_seasons_ratings, start=1):\n",
    "    print(f\"Season {season_number}: Average rating = {average_rating:.2f}\")"
   ]
  },
  {
   "cell_type": "markdown",
   "metadata": {},
   "source": [
    "### **Viewership Over Time**"
   ]
  },
  {
   "cell_type": "code",
   "execution_count": 3,
   "metadata": {},
   "outputs": [],
   "source": [
    "# Navigating to the season 1 table\n",
    "season1 = bs.find('span', {'id':'Season_1_.282011.29'}).parent.find_next_sibling().find_next_sibling().find_next_sibling().tbody\n",
    "season1_rows = season1.find_all(\"tr\")\n",
    "\n",
    "season1views = []\n",
    "for row in season1_rows:\n",
    "    last_td = row.find_all([\"td\", \"th\"])[-1]\n",
    "    text = last_td.get_text(strip=True)\n",
    "    views = re.findall(r'\\d+\\.\\d+', text)\n",
    "    if views:\n",
    "        season1views.append(float(views[0]))"
   ]
  },
  {
   "cell_type": "code",
   "execution_count": 4,
   "metadata": {},
   "outputs": [],
   "source": [
    "# Navigating to the season 2 table\n",
    "season2 = bs.find('span', {'id':'Season_2_.282012.E2.80.9313.29'}).parent.find_next_sibling().find_next_sibling().find_next_sibling().tbody\n",
    "season2_rows = season2.find_all(\"tr\")\n",
    "\n",
    "season2views = []\n",
    "for row in season2_rows:\n",
    "    last_td = row.find_all([\"td\", \"th\"])[-1]\n",
    "    text = last_td.get_text(strip=True)\n",
    "    views = re.findall(r'\\d+\\.\\d+', text)\n",
    "    if views:\n",
    "        season2views.append(float(views[0]))"
   ]
  },
  {
   "cell_type": "code",
   "execution_count": 5,
   "metadata": {},
   "outputs": [],
   "source": [
    "# Navigating to the season 3 table\n",
    "season3 = bs.find('span', {'id':'Season_3_.282013.E2.80.9314.29'}).parent.find_next_sibling().find_next_sibling().find_next_sibling().tbody\n",
    "season3_rows = season3.find_all(\"tr\")\n",
    "\n",
    "season3views = []\n",
    "for row in season3_rows:\n",
    "    last_td = row.find_all([\"td\", \"th\"])[-1]\n",
    "    text = last_td.get_text(strip=True)\n",
    "    views = re.findall(r'\\d+\\.\\d+', text)\n",
    "    if views:\n",
    "        season3views.append(float(views[0]))"
   ]
  },
  {
   "cell_type": "code",
   "execution_count": 6,
   "metadata": {},
   "outputs": [],
   "source": [
    "# Navigating to the season 4 table\n",
    "season4 = bs.find('span', {'id':'Season_4_.282014.E2.80.9315.29'}).parent.find_next_sibling().find_next_sibling().find_next_sibling().tbody\n",
    "season4_rows = season4.find_all(\"tr\")\n",
    "\n",
    "season4views = []\n",
    "for row in season4_rows:\n",
    "    last_td = row.find_all([\"td\", \"th\"])[-1]\n",
    "    text = last_td.get_text(strip=True)\n",
    "    views = re.findall(r'\\d+\\.\\d+', text)\n",
    "    if views:\n",
    "        season4views.append(float(views[0]))"
   ]
  },
  {
   "cell_type": "code",
   "execution_count": 7,
   "metadata": {},
   "outputs": [],
   "source": [
    "# Navigating to the season 5 table\n",
    "season5 = bs.find('span', {'id':'Season_5_.282015.E2.80.9316.29'}).parent.find_next_sibling().find_next_sibling().find_next_sibling().tbody\n",
    "season5_rows = season5.find_all(\"tr\")\n",
    "\n",
    "season5views = []\n",
    "for row in season5_rows:\n",
    "    last_td = row.find_all([\"td\", \"th\"])[-1]\n",
    "    text = last_td.get_text(strip=True)\n",
    "    views = re.findall(r'\\d+\\.\\d+', text)\n",
    "    if views:\n",
    "        season5views.append(float(views[0]))"
   ]
  },
  {
   "cell_type": "code",
   "execution_count": 8,
   "metadata": {},
   "outputs": [],
   "source": [
    "# Navigating to the season 6 table\n",
    "season6 = bs.find('span', {'id':'Season_6_.282016.E2.80.9317.29'}).parent.find_next_sibling().find_next_sibling().find_next_sibling().tbody\n",
    "season6_rows = season6.find_all(\"tr\")\n",
    "\n",
    "season6views = []\n",
    "for row in season6_rows:\n",
    "    last_td = row.find_all([\"td\", \"th\"])[-1]\n",
    "    text = last_td.get_text(strip=True)\n",
    "    views = re.findall(r'\\d+\\.\\d+', text)\n",
    "    if views:\n",
    "        season6views.append(float(views[0]))"
   ]
  },
  {
   "cell_type": "code",
   "execution_count": 9,
   "metadata": {},
   "outputs": [],
   "source": [
    "# Navigating to the season 7 table\n",
    "season7 = bs.find('span', {'id':'Season_7_.282017.E2.80.9318.29'}).parent.find_next_sibling().find_next_sibling().find_next_sibling().tbody\n",
    "season7_rows = season7.find_all(\"tr\")\n",
    "\n",
    "season7views = []\n",
    "for row in season7_rows:\n",
    "    last_td = row.find_all([\"td\", \"th\"])[-1]\n",
    "    text = last_td.get_text(strip=True)\n",
    "    views = re.findall(r'\\d+\\.\\d+', text)\n",
    "    if views:\n",
    "        season7views.append(float(views[0]))"
   ]
  },
  {
   "cell_type": "code",
   "execution_count": 10,
   "metadata": {},
   "outputs": [],
   "source": [
    "# Navigating to the season 8 table\n",
    "season8 = bs.find('span', {'id':'Season_8_.282018.E2.80.9319.29'}).parent.find_next_sibling().find_next_sibling().find_next_sibling().tbody\n",
    "season8_rows = season8.find_all(\"tr\")\n",
    "\n",
    "season8views = []\n",
    "for row in season8_rows:\n",
    "    last_td = row.find_all([\"td\", \"th\"])[-1]\n",
    "    text = last_td.get_text(strip=True)\n",
    "    views = re.findall(r'\\d+\\.\\d+', text)\n",
    "    if views:\n",
    "        season8views.append(float(views[0]))"
   ]
  },
  {
   "cell_type": "code",
   "execution_count": 11,
   "metadata": {},
   "outputs": [],
   "source": [
    "# Navigating to the season 9 table\n",
    "season9 = bs.find('span', {'id':'Season_9_.282019.29'}).parent.find_next_sibling().find_next_sibling().find_next_sibling().tbody\n",
    "season9_rows = season9.find_all(\"tr\")\n",
    "\n",
    "season9views = []\n",
    "for row in season9_rows:\n",
    "    last_td = row.find_all([\"td\", \"th\"])[-1]\n",
    "    text = last_td.get_text(strip=True)\n",
    "    views = re.findall(r'\\d+\\.\\d+', text)\n",
    "    if views:\n",
    "        season9views.append(float(views[0]))"
   ]
  },
  {
   "cell_type": "code",
   "execution_count": 12,
   "metadata": {},
   "outputs": [
    {
     "data": {
      "image/png": "[encoded data removed]",
      "text/plain": [
       "<Figure size 640x480 with 1 Axes>"
      ]
     },
     "metadata": {},
     "output_type": "display_data"
    }
   ],
   "source": [
    "merged_views = season1views + season2views + season3views + season4views + season5views + season6views + season7views + season8views + season9views\n",
    "\n",
    "episode_numbers = list(range(1, len(merged_views) + 1))\n",
    "\n",
    "# Creating the plot\n",
    "plt.plot(episode_numbers, merged_views, linestyle='-')\n",
    "plt.title('Viewership Over Time')\n",
    "plt.xlabel('Episode Number')\n",
    "plt.ylabel('U.S. viewers (in millions)')\n",
    "plt.grid(False)"
   ]
  }
 ],
 "metadata": {
  "kernelspec": {
   "display_name": "Python 3",
   "language": "python",
   "name": "python3"
  },
  "language_info": {
   "codemirror_mode": {
    "name": "ipython",
    "version": 3
   },
   "file_extension": ".py",
   "mimetype": "text/x-python",
   "name": "python",
   "nbconvert_exporter": "python",
   "pygments_lexer": "ipython3",
   "version": "3.10.13"
  }
 },
 "nbformat": 4,
 "nbformat_minor": 2
}
